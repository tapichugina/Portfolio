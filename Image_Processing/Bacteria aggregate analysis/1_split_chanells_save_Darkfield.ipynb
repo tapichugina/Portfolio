{
 "cells": [
  {
   "cell_type": "code",
   "execution_count": 1,
   "id": "specialized-mounting",
   "metadata": {
    "ExecuteTime": {
     "end_time": "2021-04-09T10:07:59.346800Z",
     "start_time": "2021-04-09T10:07:57.844087Z"
    }
   },
   "outputs": [],
   "source": [
    "import sys\n",
    "from glob import glob\n",
    "import numpy as np\n",
    "import matplotlib.pyplot as plt\n",
    "import pandas as pd\n",
    "import seaborn as sns\n",
    "\n",
    "import skimage\n",
    "import skimage.io as io"
   ]
  },
  {
   "cell_type": "code",
   "execution_count": 4,
   "id": "welcome-handy",
   "metadata": {
    "ExecuteTime": {
     "end_time": "2021-03-31T09:13:06.205519Z",
     "start_time": "2021-03-31T09:13:06.201072Z"
    }
   },
   "outputs": [
    {
     "data": {
      "text/plain": [
       "['../data/43125.tif',\n",
       " '../data/43121.tif',\n",
       " '../data/43122.tif',\n",
       " '../data/43123.tif']"
      ]
     },
     "execution_count": 4,
     "metadata": {},
     "output_type": "execute_result"
    }
   ],
   "source": [
    "FileList=glob('../data/*.tif')\n",
    "FileList"
   ]
  },
  {
   "cell_type": "code",
   "execution_count": 7,
   "id": "controlling-retro",
   "metadata": {
    "ExecuteTime": {
     "end_time": "2021-03-31T09:14:25.879911Z",
     "start_time": "2021-03-31T09:14:00.784781Z"
    }
   },
   "outputs": [
    {
     "name": "stdout",
     "output_type": "stream",
     "text": [
      "(121, 2, 2208, 2752)\n",
      "(20, 2, 2208, 2752)\n",
      "(49, 2, 2208, 2752)\n",
      "(97, 2, 2208, 2752)\n"
     ]
    }
   ],
   "source": [
    "for file_name in FileList:\n",
    "    file_name_prefix=file_name.split('/')[-1].split(\".tif\")[0]\n",
    "    \n",
    "    img=io.imread(file_name)\n",
    "    print(img.shape)\n",
    "    chanel_bright=img[:,0,:,:] # Bright Field\n",
    "    chanel_dark=img[:,1,:,:]   # Dark Field\n",
    "    \n",
    "    io.imsave(\"../data/\"+file_name_prefix+\"_Dark.tif\",chanel_dark,check_contrast=False,plugin='tifffile')"
   ]
  },
  {
   "cell_type": "code",
   "execution_count": 2,
   "id": "helpful-particle",
   "metadata": {
    "ExecuteTime": {
     "end_time": "2021-04-09T10:08:27.923471Z",
     "start_time": "2021-04-09T10:08:20.961407Z"
    }
   },
   "outputs": [],
   "source": [
    "img=io.imread('../data/43125.tif')"
   ]
  },
  {
   "cell_type": "code",
   "execution_count": 3,
   "id": "political-voice",
   "metadata": {
    "ExecuteTime": {
     "end_time": "2021-04-09T10:08:27.948349Z",
     "start_time": "2021-04-09T10:08:27.942411Z"
    }
   },
   "outputs": [
    {
     "data": {
      "text/plain": [
       "(121, 2, 2208, 2752)"
      ]
     },
     "execution_count": 3,
     "metadata": {},
     "output_type": "execute_result"
    }
   ],
   "source": [
    "img.shape"
   ]
  },
  {
   "cell_type": "code",
   "execution_count": null,
   "id": "desperate-tribe",
   "metadata": {},
   "outputs": [],
   "source": []
  }
 ],
 "metadata": {
  "hide_input": false,
  "kernelspec": {
   "display_name": "Python [conda env:omeropy] *",
   "language": "python",
   "name": "conda-env-omeropy-py"
  },
  "language_info": {
   "codemirror_mode": {
    "name": "ipython",
    "version": 3
   },
   "file_extension": ".py",
   "mimetype": "text/x-python",
   "name": "python",
   "nbconvert_exporter": "python",
   "pygments_lexer": "ipython3",
   "version": "3.6.12"
  },
  "toc": {
   "base_numbering": 1,
   "nav_menu": {},
   "number_sections": true,
   "sideBar": true,
   "skip_h1_title": false,
   "title_cell": "Table of Contents",
   "title_sidebar": "Contents",
   "toc_cell": false,
   "toc_position": {},
   "toc_section_display": true,
   "toc_window_display": false
  },
  "varInspector": {
   "cols": {
    "lenName": 16,
    "lenType": 16,
    "lenVar": 40
   },
   "kernels_config": {
    "python": {
     "delete_cmd_postfix": "",
     "delete_cmd_prefix": "del ",
     "library": "var_list.py",
     "varRefreshCmd": "print(var_dic_list())"
    },
    "r": {
     "delete_cmd_postfix": ") ",
     "delete_cmd_prefix": "rm(",
     "library": "var_list.r",
     "varRefreshCmd": "cat(var_dic_list()) "
    }
   },
   "types_to_exclude": [
    "module",
    "function",
    "builtin_function_or_method",
    "instance",
    "_Feature"
   ],
   "window_display": false
  }
 },
 "nbformat": 4,
 "nbformat_minor": 5
}
