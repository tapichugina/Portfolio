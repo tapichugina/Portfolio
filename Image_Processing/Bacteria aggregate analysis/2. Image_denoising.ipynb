{
 "cells": [
  {
   "cell_type": "code",
   "execution_count": 1,
   "id": "broke-nerve",
   "metadata": {
    "ExecuteTime": {
     "end_time": "2021-04-09T08:16:56.329003Z",
     "start_time": "2021-04-09T08:16:54.550867Z"
    }
   },
   "outputs": [],
   "source": [
    "import numpy as np\n",
    "import pandas as pd\n",
    "import os\n",
    "\n",
    "\n",
    "import skimage.io as io\n",
    "from skimage import util\n",
    "from skimage.filters import gaussian\n",
    "\n",
    "import warnings\n",
    "warnings.filterwarnings('ignore')\n",
    "from glob import glob\n"
   ]
  },
  {
   "cell_type": "code",
   "execution_count": 2,
   "id": "formal-portugal",
   "metadata": {
    "ExecuteTime": {
     "end_time": "2021-04-09T08:16:56.357741Z",
     "start_time": "2021-04-09T08:16:56.353113Z"
    }
   },
   "outputs": [],
   "source": [
    "# viz function\n",
    "def img_compare(img_dict):\n",
    "    n_figures=len(img_dict)\n",
    "    \n",
    "    fig, ax = plt.subplots(1,n_figures,figsize=(5*n_figures, 5))\n",
    "    counter=0\n",
    "    for label in img_dict:\n",
    "        img=img_dict[label]\n",
    "        ax[counter].imshow(img[0:500,0:500])\n",
    "        ax[counter].set_title(label)\n",
    "        ax[counter].axis('off')\n",
    "        counter=counter+1\n",
    "        "
   ]
  },
  {
   "cell_type": "markdown",
   "id": "french-script",
   "metadata": {
    "ExecuteTime": {
     "end_time": "2021-04-09T06:59:38.503009Z",
     "start_time": "2021-04-09T06:59:38.499595Z"
    }
   },
   "source": [
    "## Image denoising\n",
    "1. Small (1.5px) gauss kernel \n",
    "2. Substract background. Background estimated by large gauss kernel (150 px)\n",
    "\n",
    "We saved intermediate images:\n",
    "* denoised -small gauss kernel\n",
    "* background - large gauss kernel\n",
    "* prepared -final denoised image"
   ]
  },
  {
   "cell_type": "code",
   "execution_count": 3,
   "id": "gross-finish",
   "metadata": {
    "ExecuteTime": {
     "end_time": "2021-04-09T08:16:56.387588Z",
     "start_time": "2021-04-09T08:16:56.378281Z"
    }
   },
   "outputs": [],
   "source": [
    "def image_denoising(img):\n",
    "    \"\"\"\n",
    "    Denoised img \n",
    "    Small (1.5px) gauss kernel \n",
    "    Substract background. Background estimated by large gauss kernel (150 px)\n",
    "    \"\"\"\n",
    "    # denoised\n",
    "    denoised=gaussian(img,1.5)\n",
    "    # substract background\n",
    "    background=gaussian(img,150)\n",
    "    img_prepared=denoised-background\n",
    "    return denoised,background,img_prepared\n",
    "\n",
    "def images_list(file_name):\n",
    "    \"\"\"\n",
    "    create list of images that used for multiprocessing\n",
    "    \"\"\" \n",
    "    \n",
    "    folder_to_save=os.path.split(file_name)[0]\n",
    "    file_prefix=os.path.split(file_name)[1].split('.')[0]\n",
    "    img_stack=io.imread(file_name)\n",
    "    \n",
    "    # make a list with images for multiprocessor\n",
    "    img_list=[img_stack[i] for i in range(img_stack.shape[0])]\n",
    "    return img_list,folder_to_save,file_prefix\n",
    "\n",
    "def save_results_after_multiprocess(denoising_results,folder_to_save,file_prefix):\n",
    "    \"\"\"\n",
    "    saved results of multiprocessing\n",
    "    \"\"\"\n",
    "    n_frames=len(denoising_results)\n",
    "    rows,cols=denoising_results[0][0].shape\n",
    "    \n",
    "    denoised=np.zeros((n_frames,rows,cols),dtype=\"float32\")\n",
    "    background=np.zeros((n_frames,rows,cols),dtype=\"float32\")\n",
    "    img_prepared=np.zeros((n_frames,rows,cols),dtype=\"float32\")\n",
    "    \n",
    "    for frame in range(n_frames):\n",
    "        denoised[frame],background[frame],img_prepared[frame]=denoising_results[frame]\n",
    "        \n",
    "    io.imsave(os.path.join(folder_to_save,file_prefix+\"_denoised.tif\"),denoised)\n",
    "    io.imsave(os.path.join(folder_to_save,file_prefix+\"_background.tif\"),background)\n",
    "    io.imsave(os.path.join(folder_to_save,file_prefix+\"_prepared.tif\"),img_prepared)"
   ]
  },
  {
   "cell_type": "code",
   "execution_count": 4,
   "id": "fresh-crown",
   "metadata": {
    "ExecuteTime": {
     "end_time": "2021-04-09T08:16:56.434090Z",
     "start_time": "2021-04-09T08:16:56.425010Z"
    }
   },
   "outputs": [
    {
     "data": {
      "text/plain": [
       "['../data/43125_Dark.tif',\n",
       " '../data/43123_Dark.tif',\n",
       " '../data/43122_Dark.tif',\n",
       " '../data/43121_Dark.tif']"
      ]
     },
     "execution_count": 4,
     "metadata": {},
     "output_type": "execute_result"
    }
   ],
   "source": [
    "file_list=glob(\"../data/*_Dark.tif\")\n",
    "file_list"
   ]
  },
  {
   "cell_type": "code",
   "execution_count": 5,
   "id": "serious-planning",
   "metadata": {
    "ExecuteTime": {
     "end_time": "2021-04-09T08:36:06.407975Z",
     "start_time": "2021-04-09T08:16:57.386466Z"
    }
   },
   "outputs": [],
   "source": [
    "import multiprocess\n",
    "number_of_cpus = multiprocess.cpu_count(); number_of_cpus\n",
    "pool = multiprocess.Pool(processes=number_of_cpus)\n",
    "\n",
    "for file_name in file_list:\n",
    "    img_list,folder_to_save,file_prefix=images_list(file_name)\n",
    "    denoising_results = pool.map(image_denoising,img_list)\n",
    "    save_results_after_multiprocess(denoising_results,folder_to_save,file_prefix)"
   ]
  },
  {
   "cell_type": "code",
   "execution_count": null,
   "id": "going-gazette",
   "metadata": {},
   "outputs": [],
   "source": []
  }
 ],
 "metadata": {
  "hide_input": false,
  "kernelspec": {
   "display_name": "Python [conda env:omeropy] *",
   "language": "python",
   "name": "conda-env-omeropy-py"
  },
  "language_info": {
   "codemirror_mode": {
    "name": "ipython",
    "version": 3
   },
   "file_extension": ".py",
   "mimetype": "text/x-python",
   "name": "python",
   "nbconvert_exporter": "python",
   "pygments_lexer": "ipython3",
   "version": "3.6.12"
  },
  "toc": {
   "base_numbering": 1,
   "nav_menu": {},
   "number_sections": true,
   "sideBar": true,
   "skip_h1_title": false,
   "title_cell": "Table of Contents",
   "title_sidebar": "Contents",
   "toc_cell": false,
   "toc_position": {},
   "toc_section_display": true,
   "toc_window_display": false
  },
  "varInspector": {
   "cols": {
    "lenName": 16,
    "lenType": 16,
    "lenVar": 40
   },
   "kernels_config": {
    "python": {
     "delete_cmd_postfix": "",
     "delete_cmd_prefix": "del ",
     "library": "var_list.py",
     "varRefreshCmd": "print(var_dic_list())"
    },
    "r": {
     "delete_cmd_postfix": ") ",
     "delete_cmd_prefix": "rm(",
     "library": "var_list.r",
     "varRefreshCmd": "cat(var_dic_list()) "
    }
   },
   "types_to_exclude": [
    "module",
    "function",
    "builtin_function_or_method",
    "instance",
    "_Feature"
   ],
   "window_display": false
  }
 },
 "nbformat": 4,
 "nbformat_minor": 5
}
