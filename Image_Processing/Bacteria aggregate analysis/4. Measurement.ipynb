{
 "cells": [
  {
   "cell_type": "code",
   "execution_count": 33,
   "id": "middle-mediterranean",
   "metadata": {
    "ExecuteTime": {
     "end_time": "2021-04-13T12:52:12.389086Z",
     "start_time": "2021-04-13T12:52:12.372317Z"
    }
   },
   "outputs": [],
   "source": [
    "import numpy as np\n",
    "import pandas as pd\n",
    "import os\n",
    "import matplotlib.pyplot as plt\n",
    "import matplotlib\n",
    "\n",
    "import skimage.io as io\n",
    "from skimage import util\n",
    "\n",
    "from glob import glob\n",
    "from skimage import measure\n",
    "from skimage.feature import peak_local_max\n",
    "from skimage.segmentation import clear_border\n"
   ]
  },
  {
   "cell_type": "markdown",
   "id": "second-approval",
   "metadata": {},
   "source": [
    "## Measurements\n",
    "List of the measurements\n",
    "\n",
    "Geometric\n",
    "* centroid\n",
    "* major_axis_length\n",
    "* minor_axis_length\n",
    "* orientation. Angle between the 0th axis (rows) and the major axis of the ellipse that has the same second moments as the region, ranging from -pi/2 to pi/2 counter-clockwise.\n",
    "* area\n",
    "* perimeter\n",
    "* eccentricity. Eccentricity of the ellipse that has the same second-moments as the region. The eccentricity is the ratio of the focal distance (distance between focal points) over the major axis length. The value is in the interval [0,1] When it is 0, the ellipse becomes a circle.\n",
    "* bbox\n",
    "* compactness. 4pi for the circle, 16 for the square\n",
    "* circularity. 1 for the circle ( it is maximum value and pi/4 for the square)\n",
    "\n",
    "Intensity\n",
    "* min_intensity\n",
    "* mean_intensity\n",
    "* max_intensity\n",
    "* contrast\n",
    "\n",
    "Local peaks within labeled region\n",
    "* peaks\n",
    "* is_peak (False- no peaks were found, True - several peaks were found)\n",
    "\n"
   ]
  },
  {
   "cell_type": "code",
   "execution_count": 34,
   "id": "interstate-document",
   "metadata": {
    "ExecuteTime": {
     "end_time": "2021-04-13T12:52:13.834580Z",
     "start_time": "2021-04-13T12:52:13.803064Z"
    }
   },
   "outputs": [],
   "source": [
    "def props_measurement(images_binary,images):\n",
    "    \n",
    "    total_result_df=pd.DataFrame()\n",
    "    for frame in range(images.shape[0]):\n",
    "        label_image = measure.label(images_binary[frame])\n",
    "        \n",
    "        ## measurements\n",
    "        props = measure.regionprops_table(label_image,images[frame],properties=\n",
    "                                      ['label', \n",
    "                                       'centroid',\n",
    "                                       'major_axis_length',\n",
    "                                       'minor_axis_length',\n",
    "                                       'orientation',\n",
    "                                       'area',\n",
    "                                       'perimeter',\n",
    "                                       'eccentricity',\n",
    "                                       'bbox',])\n",
    "        result_df=pd.DataFrame(props)\n",
    "        \n",
    "        # additional non-standart measurements\n",
    "        result_df[\"frame\"]=frame\n",
    "        \n",
    "        # intensity\n",
    "        result_df=intensity_measurements(result_df,images[frame],images_binary[frame])\n",
    "        result_df[\"compactness\"]=result_df['perimeter']**2/result_df['area']\n",
    "        result_df[\"circularity\"]=4*np.pi*result_df['area']/result_df['perimeter']**2\n",
    "        result_df[\"contrast\"]=(result_df['max_intensity']-result_df['min_intensity'])/(result_df['max_intensity']+result_df['min_intensity'])\n",
    "        \n",
    "\n",
    "        total_result_df=pd.concat([total_result_df,result_df])\n",
    "        \n",
    "    total_result_df.reset_index(inplace=True)\n",
    "    \n",
    "    \n",
    "    # local peaks\n",
    "    coordinats,is_peaks=local_maximum_measurement(total_result_df,images)\n",
    "    total_result_df['peaks']=coordinats\n",
    "    total_result_df['is_peaks']=is_peaks\n",
    "        \n",
    "    return total_result_df\n",
    "\n",
    "def intensity_measurements(df,img,img_binary):\n",
    "    \"\"\"calculate min, mean, max of the intensity within each segmented object\n",
    "    Parameters\n",
    "    ----------\n",
    "    df : data frame with object position coordinats\n",
    "    img : original image\n",
    "    imt_binary: segmented img\n",
    "    \n",
    "    Returns\n",
    "    -------\n",
    "    data frame with added min,mean, max columns\n",
    "    \"\"\"\n",
    "    \n",
    "    max_intensity=[]\n",
    "    mean_intensity=[]\n",
    "    min_intensity=[]\n",
    "\n",
    "                     \n",
    "    for id in df.index:\n",
    "        frame=df.loc[id,'frame']\n",
    "        props=df.loc[id,:]\n",
    "\n",
    "        min_row,min_col,max_row,max_col=props.loc[\"bbox-0\":\"bbox-3\"].values.astype(int)\n",
    "        region=img[min_row:max_row,min_col:max_col]\n",
    "        region_binary=img_binary[min_row:max_row,min_col:max_col]\n",
    "       \n",
    "        # intensity measurement within segmented object\n",
    "        max_intensity.append(np.max(region[region_binary==255]))\n",
    "        mean_intensity.append(np.mean(region[region_binary==255]))\n",
    "        min_intensity.append(np.min(region[region_binary==255]))\n",
    "        \n",
    "        # fig,ax=plt.subplots(nrows=1,ncols=3)\n",
    "        # mask=region_binary==255\n",
    "        # masked_img=region*mask     \n",
    "        # ax[0].imshow(region)\n",
    "        # ax[1].imshow(region_binary)\n",
    "        # ax[2].imshow(masked_img)\n",
    "    \n",
    "    df[\"max_intensity\"]=max_intensity\n",
    "    df[\"mean_intensity\"]=mean_intensity\n",
    "    df[\"min_intensity\"]=min_intensity\n",
    "        \n",
    "    return  df\n",
    "\n",
    "\n",
    "def local_maximum_measurement(df,images):\n",
    "    \"\"\" calculate local maximums within object\"\"\"\n",
    "    \n",
    "    coordinates=[]\n",
    "    is_peaks=[]\n",
    "    \n",
    "    for id in df.index:\n",
    "        frame=df.loc[id,'frame']\n",
    "        props=df.loc[id,:]\n",
    "        min_intensity=df.loc[id,'min_intensity']\n",
    "\n",
    "        min_row,min_col,max_row,max_col=props.loc[\"bbox-0\":\"bbox-3\"].values.astype(int)\n",
    "        region=images[frame,min_row:max_row,min_col:max_col]\n",
    "\n",
    "        coord=peak_local_max(region, min_distance=5,threshold_abs=min_intensity)\n",
    "        result_list=util_peak_to_list(coord,region)\n",
    "        coordinates.append(result_list)\n",
    "        \n",
    "\n",
    "        if (coord.size != 0.):\n",
    "            is_peaks.append('True')\n",
    "        else:\n",
    "            is_peaks.append('False')\n",
    "        \n",
    "        \n",
    "    return coordinates,is_peaks\n",
    "\n",
    "                             \n",
    "def util_peak_to_list(coord,region):\n",
    "    \"\"\" helper function for local_maximum_measurement \n",
    "    translate np.array to the list\n",
    "    \"\"\"\n",
    "    result_list=[]\n",
    "    for i in range(coord.shape[0]):\n",
    "        new_list=list(coord[i])\n",
    "        local_peak=region[coord[i,0],coord[i,1]]\n",
    "        new_list.append(local_peak)\n",
    "        #print(new_list)\n",
    "        result_list.append(new_list)\n",
    "    return(result_list)"
   ]
  },
  {
   "cell_type": "code",
   "execution_count": 36,
   "id": "divine-equality",
   "metadata": {
    "ExecuteTime": {
     "end_time": "2021-04-13T12:52:23.832804Z",
     "start_time": "2021-04-13T12:52:15.320166Z"
    }
   },
   "outputs": [],
   "source": [
    "file_list=glob(\"../data/*_Dark_prepared.tif\")\n",
    "images_dict={}\n",
    "for file_name in file_list:\n",
    "    images_prepared=io.imread(file_name)\n",
    "    binary_file=file_name.split(\".tif\")[0]+'_segmented'+'.tif'\n",
    "    images_binary=io.imread(binary_file)\n",
    "    img_dict={\"img\":images_prepared,\"binary\":images_binary}\n",
    "    file_prefix=os.path.split(file_name)[1].split('.')[0].split(\"_prepared\")[0]\n",
    "    images_dict[file_prefix]=img_dict\n"
   ]
  },
  {
   "cell_type": "code",
   "execution_count": 37,
   "id": "eight-telescope",
   "metadata": {
    "ExecuteTime": {
     "end_time": "2021-04-13T12:54:07.980332Z",
     "start_time": "2021-04-13T12:52:24.293092Z"
    }
   },
   "outputs": [],
   "source": [
    "result_across_experiments_df=pd.DataFrame()\n",
    "for i in images_dict.keys():\n",
    "    images_binary=images_dict[i]['binary']\n",
    "    images=images_dict[i]['img']\n",
    "    df=props_measurement(images_dict[i]['binary'],images_dict[i]['img'])\n",
    "    df['file_name']=i\n",
    "    result_across_experiments_df=pd.concat([result_across_experiments_df,df])"
   ]
  },
  {
   "cell_type": "code",
   "execution_count": 38,
   "id": "infinite-italic",
   "metadata": {
    "ExecuteTime": {
     "end_time": "2021-04-13T12:54:09.717826Z",
     "start_time": "2021-04-13T12:54:08.475888Z"
    }
   },
   "outputs": [],
   "source": [
    "result_across_experiments_df.to_csv(\"../data/Measurements.csv\")"
   ]
  },
  {
   "cell_type": "code",
   "execution_count": 40,
   "id": "alleged-history",
   "metadata": {
    "ExecuteTime": {
     "end_time": "2021-04-13T12:57:48.966505Z",
     "start_time": "2021-04-13T12:57:48.962367Z"
    }
   },
   "outputs": [
    {
     "data": {
      "text/plain": [
       "(50610, 24)"
      ]
     },
     "execution_count": 40,
     "metadata": {},
     "output_type": "execute_result"
    }
   ],
   "source": [
    " result_across_experiments_df.shape"
   ]
  },
  {
   "cell_type": "code",
   "execution_count": 15,
   "id": "current-flight",
   "metadata": {
    "ExecuteTime": {
     "end_time": "2021-04-13T12:18:19.167738Z",
     "start_time": "2021-04-13T12:18:19.164863Z"
    }
   },
   "outputs": [],
   "source": [
    "images_binary=images_dict['43125_Dark']['binary']\n",
    "images=images_dict['43125_Dark']['img']\n",
    "\n",
    "# df=props_measurement(images_dict['43125_Dark']['binary'],images_dict['43125_Dark']['img'])"
   ]
  },
  {
   "cell_type": "code",
   "execution_count": 302,
   "id": "adjacent-retro",
   "metadata": {
    "ExecuteTime": {
     "end_time": "2021-04-12T12:57:40.725066Z",
     "start_time": "2021-04-12T12:57:40.720681Z"
    }
   },
   "outputs": [
    {
     "data": {
      "text/plain": [
       "(21230, 23)"
      ]
     },
     "execution_count": 302,
     "metadata": {},
     "output_type": "execute_result"
    }
   ],
   "source": [
    "# df.shape"
   ]
  }
 ],
 "metadata": {
  "hide_input": false,
  "kernelspec": {
   "display_name": "Python [conda env:omeropy] *",
   "language": "python",
   "name": "conda-env-omeropy-py"
  },
  "language_info": {
   "codemirror_mode": {
    "name": "ipython",
    "version": 3
   },
   "file_extension": ".py",
   "mimetype": "text/x-python",
   "name": "python",
   "nbconvert_exporter": "python",
   "pygments_lexer": "ipython3",
   "version": "3.6.12"
  },
  "toc": {
   "base_numbering": 1,
   "nav_menu": {},
   "number_sections": true,
   "sideBar": true,
   "skip_h1_title": false,
   "title_cell": "Table of Contents",
   "title_sidebar": "Contents",
   "toc_cell": false,
   "toc_position": {},
   "toc_section_display": true,
   "toc_window_display": false
  },
  "varInspector": {
   "cols": {
    "lenName": 16,
    "lenType": 16,
    "lenVar": 40
   },
   "kernels_config": {
    "python": {
     "delete_cmd_postfix": "",
     "delete_cmd_prefix": "del ",
     "library": "var_list.py",
     "varRefreshCmd": "print(var_dic_list())"
    },
    "r": {
     "delete_cmd_postfix": ") ",
     "delete_cmd_prefix": "rm(",
     "library": "var_list.r",
     "varRefreshCmd": "cat(var_dic_list()) "
    }
   },
   "types_to_exclude": [
    "module",
    "function",
    "builtin_function_or_method",
    "instance",
    "_Feature"
   ],
   "window_display": false
  }
 },
 "nbformat": 4,
 "nbformat_minor": 5
}
