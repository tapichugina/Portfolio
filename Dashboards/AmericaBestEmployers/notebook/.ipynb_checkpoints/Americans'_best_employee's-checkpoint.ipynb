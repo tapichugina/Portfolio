{
 "cells": [
  {
   "cell_type": "markdown",
   "id": "dd92a07e-5997-4b0a-8fc7-da4f7e5de6f6",
   "metadata": {},
   "source": [
    "# American's best employees"
   ]
  },
  {
   "cell_type": "code",
   "execution_count": 21,
   "id": "29b954a1-ec80-4c8c-906f-7f8e3843a334",
   "metadata": {},
   "outputs": [],
   "source": [
    "from bs4 import BeautifulSoup\n",
    "import requests\n",
    "import pandas as pd\n",
    "import numpy as np"
   ]
  },
  {
   "cell_type": "markdown",
   "id": "3e51e634-2a30-41fe-8596-3149b987d537",
   "metadata": {},
   "source": [
    "Data source: [link] ( https://www.forbes.com/lists/best-employers-by-state/?utm_medium=social&utm_campaign=socialflowForbesMainTwitter&utm_source=ForbesMainTwitter&sh=326f1f1e1983 )"
   ]
  },
  {
   "cell_type": "code",
   "execution_count": 22,
   "id": "5a00fb2f-59d6-426e-9cd3-e2219df00d35",
   "metadata": {
    "tags": []
   },
   "outputs": [],
   "source": [
    "url = 'https://www.forbes.com/lists/best-employers-by-state/?utm_medium=social&utm_campaign=socialflowForbesMainTwitter&utm_source=ForbesMainTwitter&sh=326f1f1e1983'\n",
    "# Ask hosting server to fetch url\n",
    "requests.get(url)\n",
    "pages = requests.get(url)\n",
    "# parser-lxml = Change html to Python friendly format\n",
    "soup = BeautifulSoup(pages.text, 'lxml')"
   ]
  },
  {
   "cell_type": "markdown",
   "id": "d7fc7b55-af2e-4e34-b0a5-60159011258b",
   "metadata": {},
   "source": [
    "## Parse table row by row\n",
    "Please note the IndustryRanks are assosiated by State, the company may have different ranks in different states. This is a reason for 'industryRanks' column to be a list."
   ]
  },
  {
   "cell_type": "code",
   "execution_count": 23,
   "id": "e6ea5836-e65e-4287-9ef8-388c6f562bc4",
   "metadata": {},
   "outputs": [],
   "source": [
    "rows=soup.find_all('a',class_=\"table-row\")\n",
    "\n",
    "result_list=[]\n",
    "for row in rows:\n",
    "    dict={}\n",
    "    for i in row.children:\n",
    "        check_span=i.find_all('span') # detect multiple entries for the ranks in different states\n",
    "        if not check_span:\n",
    "            dict[i['class'][0]]=i.text\n",
    "        else:\n",
    "            dict[i['class'][0]]=[k.text for k in check_span]\n",
    "    result_list.append(dict)\n",
    "best_employees=pd.DataFrame(result_list)\n"
   ]
  },
  {
   "cell_type": "code",
   "execution_count": 24,
   "id": "e9d06ada-e71f-4ae8-8449-0478f7228340",
   "metadata": {},
   "outputs": [
    {
     "data": {
      "text/html": [
       "<div>\n",
       "<style scoped>\n",
       "    .dataframe tbody tr th:only-of-type {\n",
       "        vertical-align: middle;\n",
       "    }\n",
       "\n",
       "    .dataframe tbody tr th {\n",
       "        vertical-align: top;\n",
       "    }\n",
       "\n",
       "    .dataframe thead th {\n",
       "        text-align: right;\n",
       "    }\n",
       "</style>\n",
       "<table border=\"1\" class=\"dataframe\">\n",
       "  <thead>\n",
       "    <tr style=\"text-align: right;\">\n",
       "      <th></th>\n",
       "      <th>industryRanks</th>\n",
       "      <th>organizationName</th>\n",
       "      <th>employees</th>\n",
       "      <th>headquarters</th>\n",
       "      <th>ceoName</th>\n",
       "      <th>industries</th>\n",
       "      <th>yearFounded</th>\n",
       "    </tr>\n",
       "  </thead>\n",
       "  <tbody>\n",
       "    <tr>\n",
       "      <th>0</th>\n",
       "      <td>[Utah, 14]</td>\n",
       "      <td>1-800 CONTACTS</td>\n",
       "      <td></td>\n",
       "      <td>Draper, Utah, United States</td>\n",
       "      <td>John (Jay) Duke Graham</td>\n",
       "      <td>Retail and Wholesale</td>\n",
       "      <td>1995</td>\n",
       "    </tr>\n",
       "    <tr>\n",
       "      <th>1</th>\n",
       "      <td>[Alabama, 3, California, 38, Iowa, 8, Minnesot...</td>\n",
       "      <td>3M</td>\n",
       "      <td>38,000</td>\n",
       "      <td>St. Paul, Minnesota, United States</td>\n",
       "      <td>Michael F. Roman</td>\n",
       "      <td>Packaged Goods</td>\n",
       "      <td>1902</td>\n",
       "    </tr>\n",
       "    <tr>\n",
       "      <th>2</th>\n",
       "      <td>[Texas, 97]</td>\n",
       "      <td>AAA Cooper Transportation</td>\n",
       "      <td>5,000</td>\n",
       "      <td>Dothan, Alabama, United States</td>\n",
       "      <td>Reid Dove</td>\n",
       "      <td>Transportation and Logistics</td>\n",
       "      <td>1955</td>\n",
       "    </tr>\n",
       "    <tr>\n",
       "      <th>3</th>\n",
       "      <td>[Ohio, 83]</td>\n",
       "      <td>ABB</td>\n",
       "      <td>105,000</td>\n",
       "      <td>Cary, North Carolina, United States</td>\n",
       "      <td>Björn Klas Otto Rosengren</td>\n",
       "      <td>Semiconductors, Electronics, Electrical Engine...</td>\n",
       "      <td>1883</td>\n",
       "    </tr>\n",
       "    <tr>\n",
       "      <th>4</th>\n",
       "      <td>[Illinois, 37, Minnesota, 30, Missouri, 30, Oh...</td>\n",
       "      <td>Abbott Laboratories</td>\n",
       "      <td>33,900</td>\n",
       "      <td>Chicago, Illinois, United States</td>\n",
       "      <td>Robert B. Ford</td>\n",
       "      <td>Health Care Equipment &amp; Services</td>\n",
       "      <td>1888</td>\n",
       "    </tr>\n",
       "    <tr>\n",
       "      <th>5</th>\n",
       "      <td>[California, 82, Illinois, 24]</td>\n",
       "      <td>AbbVie</td>\n",
       "      <td>50,000</td>\n",
       "      <td>North Chicago, Illinois, United States</td>\n",
       "      <td>Richard A. Gonzalez</td>\n",
       "      <td>Drugs &amp; Biotechnology</td>\n",
       "      <td>2013</td>\n",
       "    </tr>\n",
       "    <tr>\n",
       "      <th>6</th>\n",
       "      <td>[Utah, 26]</td>\n",
       "      <td>Academy Mortgage</td>\n",
       "      <td></td>\n",
       "      <td>Draper, Utah, United States</td>\n",
       "      <td>James Pherson</td>\n",
       "      <td>Banking and Financial Services</td>\n",
       "      <td>1988</td>\n",
       "    </tr>\n",
       "    <tr>\n",
       "      <th>7</th>\n",
       "      <td>[Colorado, 58]</td>\n",
       "      <td>Academy School District 20</td>\n",
       "      <td>3,140</td>\n",
       "      <td>Colorado Springs, Colorado, United States</td>\n",
       "      <td>Thomas Gregory</td>\n",
       "      <td>Education</td>\n",
       "      <td>1957</td>\n",
       "    </tr>\n",
       "    <tr>\n",
       "      <th>8</th>\n",
       "      <td>[Georgia, 74, Illinois, 31, New Jersey, 64, Pe...</td>\n",
       "      <td>Accenture</td>\n",
       "      <td>710,000</td>\n",
       "      <td>New York, New York, United States</td>\n",
       "      <td>Julie Spellman Sweet</td>\n",
       "      <td>Professional Services</td>\n",
       "      <td>1989</td>\n",
       "    </tr>\n",
       "    <tr>\n",
       "      <th>9</th>\n",
       "      <td>[Illinois, 80]</td>\n",
       "      <td>Ace Hardware</td>\n",
       "      <td>12,300</td>\n",
       "      <td>Oak Brook, Illinois, United States</td>\n",
       "      <td>John Venhuizen</td>\n",
       "      <td>Retail and Wholesale</td>\n",
       "      <td>1924</td>\n",
       "    </tr>\n",
       "  </tbody>\n",
       "</table>\n",
       "</div>"
      ],
      "text/plain": [
       "                                       industryRanks  \\\n",
       "0                                         [Utah, 14]   \n",
       "1  [Alabama, 3, California, 38, Iowa, 8, Minnesot...   \n",
       "2                                        [Texas, 97]   \n",
       "3                                         [Ohio, 83]   \n",
       "4  [Illinois, 37, Minnesota, 30, Missouri, 30, Oh...   \n",
       "5                     [California, 82, Illinois, 24]   \n",
       "6                                         [Utah, 26]   \n",
       "7                                     [Colorado, 58]   \n",
       "8  [Georgia, 74, Illinois, 31, New Jersey, 64, Pe...   \n",
       "9                                     [Illinois, 80]   \n",
       "\n",
       "             organizationName employees  \\\n",
       "0              1-800 CONTACTS             \n",
       "1                          3M    38,000   \n",
       "2   AAA Cooper Transportation     5,000   \n",
       "3                         ABB   105,000   \n",
       "4         Abbott Laboratories    33,900   \n",
       "5                      AbbVie    50,000   \n",
       "6            Academy Mortgage             \n",
       "7  Academy School District 20     3,140   \n",
       "8                   Accenture   710,000   \n",
       "9                Ace Hardware    12,300   \n",
       "\n",
       "                                headquarters                    ceoName  \\\n",
       "0                Draper, Utah, United States     John (Jay) Duke Graham   \n",
       "1         St. Paul, Minnesota, United States           Michael F. Roman   \n",
       "2             Dothan, Alabama, United States                  Reid Dove   \n",
       "3        Cary, North Carolina, United States  Björn Klas Otto Rosengren   \n",
       "4           Chicago, Illinois, United States             Robert B. Ford   \n",
       "5     North Chicago, Illinois, United States        Richard A. Gonzalez   \n",
       "6                Draper, Utah, United States              James Pherson   \n",
       "7  Colorado Springs, Colorado, United States             Thomas Gregory   \n",
       "8          New York, New York, United States       Julie Spellman Sweet   \n",
       "9         Oak Brook, Illinois, United States             John Venhuizen   \n",
       "\n",
       "                                          industries yearFounded  \n",
       "0                               Retail and Wholesale        1995  \n",
       "1                                     Packaged Goods        1902  \n",
       "2                       Transportation and Logistics        1955  \n",
       "3  Semiconductors, Electronics, Electrical Engine...        1883  \n",
       "4                   Health Care Equipment & Services        1888  \n",
       "5                              Drugs & Biotechnology        2013  \n",
       "6                     Banking and Financial Services        1988  \n",
       "7                                          Education        1957  \n",
       "8                              Professional Services        1989  \n",
       "9                               Retail and Wholesale        1924  "
      ]
     },
     "execution_count": 24,
     "metadata": {},
     "output_type": "execute_result"
    }
   ],
   "source": [
    "best_employees.head(10)"
   ]
  },
  {
   "cell_type": "markdown",
   "id": "1ae7925d-418b-4239-9488-3582e3eed0ea",
   "metadata": {},
   "source": [
    "## Clean Data"
   ]
  },
  {
   "cell_type": "markdown",
   "id": "56b67191-667e-4fd1-994d-1c77e993be4c",
   "metadata": {},
   "source": [
    "### Fill the empty string with Nan"
   ]
  },
  {
   "cell_type": "code",
   "execution_count": 25,
   "id": "c252609b-9f2f-4b2c-a5fe-dbc6417db829",
   "metadata": {},
   "outputs": [],
   "source": [
    "# Fill the empty string with Nan\n",
    "best_employees['employees']=best_employees['employees'].str.replace(',','')\n",
    "best_employees = best_employees.replace('', np.nan,regex=True)\n",
    "best_employees['employees']=pd.to_numeric(best_employees['employees'],errors='coerce',downcast='integer')\n",
    "best_employees['headquarters']=best_employees['headquarters'].str.split(',').str[1]\n",
    "best_employees['yearFounded']=pd.to_numeric(best_employees['yearFounded'],errors='coerce',downcast='integer')"
   ]
  },
  {
   "cell_type": "markdown",
   "id": "5de41b11-55aa-4247-9ad8-d39a5d124e22",
   "metadata": {},
   "source": [
    "### Fixing repetative names in industry columns\n",
    "* 'Travel & Leisure','Hotels, Restaurants & Leisure', 'Restaurants' -'Travel, Hotels, Restaurants, Leisure'\n",
    "* 'Health Care Equipment & Services', 'Healthcare & Social' - 'Health Care Equipment, Services, Social'\n",
    "* 'Construction, Oil & Gas Operations, Mining and Chemicals','Construction','Oil & Gas Operations','Chemicals'\n",
    "* 'Retail and Wholesale','Retail & Wholesale'\n",
    "* 'Media','Media & Advertising'\n",
    "* 'Professional Service','Professional Services'\n"
   ]
  },
  {
   "cell_type": "code",
   "execution_count": 26,
   "id": "cf7f9109-3a22-4e94-8f84-54d8c0d674ce",
   "metadata": {},
   "outputs": [],
   "source": [
    "dict_travel_leisure = {'Travel & Leisure' : 'Travel, Hotels, Restaurants, Leisure', 'Hotels, Restaurants & Leisure' : 'Travel, Hotels, Restaurants, Leisure', 'Restaurants' : 'Travel, Hotels, Restaurants, Leisure'}\n",
    "dict_health={'Health Care Equipment & Services': 'Health Care','Healthcare & Social':'Health Care'}\n",
    "dict_wholesale={'Retail & Wholesale':'Retail and Wholesale'}\n",
    "dict_oil_construction={'Construction':'Construction, Oil & Gas Operations, Mining and Chemicals','Oil & Gas Operations':'Construction, Oil & Gas Operations, Mining and Chemicals','Chemicals':'Construction, Oil & Gas Operations, Mining and Chemicals'}\n",
    "\n",
    " \n",
    "# Remap the values of the dataframe\n",
    "best_employees.replace({\"industries\": dict_travel_leisure},inplace=True)\n",
    "best_employees.replace({\"industries\": dict_health},inplace=True)\n",
    "best_employees.replace({\"industries\": dict_wholesale},inplace=True)\n",
    "best_employees.replace({\"industries\": dict_oil_construction},inplace=True)\n",
    "best_employees.replace({\"industries\": {'Semiconductors, Electronics, Electrical Engineering, Technology Hardware & Equipment':'Electronics'}},inplace=True)\n",
    "best_employees.replace({\"industries\": {'Media':'Media & Advertising'}},inplace=True)\n",
    "best_employees.replace({\"industries\": {'Professional Service':'Professional Services'}},inplace=True);"
   ]
  },
  {
   "cell_type": "code",
   "execution_count": 27,
   "id": "e19aec5e-876d-46e1-81c0-164e179891ee",
   "metadata": {},
   "outputs": [
    {
     "data": {
      "text/plain": [
       "array(['Retail and Wholesale', 'Packaged Goods',\n",
       "       'Transportation and Logistics', 'Electronics', 'Health Care',\n",
       "       'Drugs & Biotechnology', 'Banking and Financial Services',\n",
       "       'Education', 'Professional Services', 'Engineering, Manufacturing',\n",
       "       'Business Services & Supplies', 'Insurance',\n",
       "       'Clothing, Shoes, Sports Equipment',\n",
       "       'IT, Internet, Software & Services', 'Aerospace & Defense',\n",
       "       'Construction, Oil & Gas Operations, Mining and Chemicals',\n",
       "       'Government Services', 'Food, Soft Beverages, Alcohol & Tobacco',\n",
       "       'Media & Advertising', 'Utilities',\n",
       "       'Automotive (Automotive and Suppliers)',\n",
       "       'Travel, Hotels, Restaurants, Leisure', nan,\n",
       "       'Telecommunications Services, Cable Supplier', 'Conglomerates'],\n",
       "      dtype=object)"
      ]
     },
     "execution_count": 27,
     "metadata": {},
     "output_type": "execute_result"
    }
   ],
   "source": [
    "best_employees['industries'].unique()"
   ]
  },
  {
   "cell_type": "code",
   "execution_count": 28,
   "id": "5f032ad3-60b6-4065-b09c-a70581deccbf",
   "metadata": {},
   "outputs": [
    {
     "data": {
      "text/plain": [
       "(25,)"
      ]
     },
     "execution_count": 28,
     "metadata": {},
     "output_type": "execute_result"
    }
   ],
   "source": [
    "best_employees['industries'].unique().shape"
   ]
  },
  {
   "cell_type": "code",
   "execution_count": 30,
   "id": "2f9a4fcc-2985-4769-a48c-8906b04aec56",
   "metadata": {},
   "outputs": [
    {
     "data": {
      "text/plain": [
       "industries\n",
       "Government Services                                         7343320.0\n",
       "Retail and Wholesale                                        6302212.0\n",
       "Health Care                                                 5807015.0\n",
       "Professional Services                                       2948046.0\n",
       "Business Services & Supplies                                2726756.0\n",
       "Travel, Hotels, Restaurants, Leisure                        2291434.0\n",
       "Automotive (Automotive and Suppliers)                       2018212.0\n",
       "Education                                                   2001465.0\n",
       "Banking and Financial Services                              1942887.0\n",
       "Transportation and Logistics                                1847141.0\n",
       "Food, Soft Beverages, Alcohol & Tobacco                     1322052.0\n",
       "Engineering, Manufacturing                                  1318162.0\n",
       "Electronics                                                 1290929.0\n",
       "IT, Internet, Software & Services                           1165046.0\n",
       "Insurance                                                   1107186.0\n",
       "Drugs & Biotechnology                                       1096742.0\n",
       "Construction, Oil & Gas Operations, Mining and Chemicals     765442.0\n",
       "Aerospace & Defense                                          712535.0\n",
       "Telecommunications Services, Cable Supplier                  545676.0\n",
       "Packaged Goods                                               419825.0\n",
       "Clothing, Shoes, Sports Equipment                            399259.0\n",
       "Utilities                                                    377006.0\n",
       "Media & Advertising                                          286975.0\n",
       "Conglomerates                                                 34000.0\n",
       "Name: employees, dtype: float64"
      ]
     },
     "execution_count": 30,
     "metadata": {},
     "output_type": "execute_result"
    }
   ],
   "source": [
    "best_employees.groupby('industries')['employees'].sum().sort_values(ascending=False)"
   ]
  },
  {
   "cell_type": "markdown",
   "id": "2b6ebcb6-86cf-4f4f-a22e-25d48f5eaee2",
   "metadata": {},
   "source": [
    "### Dealing with Nan"
   ]
  },
  {
   "cell_type": "code",
   "execution_count": 31,
   "id": "beceb2bc-ed26-4418-8180-03119b8131f2",
   "metadata": {},
   "outputs": [
    {
     "data": {
      "text/plain": [
       "employees           212\n",
       "ceoName              14\n",
       "industries           10\n",
       "yearFounded           1\n",
       "industryRanks         0\n",
       "organizationName      0\n",
       "headquarters          0\n",
       "dtype: int64"
      ]
     },
     "execution_count": 31,
     "metadata": {},
     "output_type": "execute_result"
    }
   ],
   "source": [
    "best_employees.isnull().sum().sort_values(ascending=False)"
   ]
  },
  {
   "cell_type": "markdown",
   "id": "8ac957c0-2162-43b0-b83a-74e31204738d",
   "metadata": {},
   "source": [
    "### Fill Nan in 'industries' column with additional data from the internet "
   ]
  },
  {
   "cell_type": "code",
   "execution_count": 10,
   "id": "ecd34c25-aeb3-44bf-95f3-c5227e76f654",
   "metadata": {},
   "outputs": [
    {
     "name": "stdout",
     "output_type": "stream",
     "text": [
      "                                     industryRanks  \\\n",
      "92                                [New Jersey, 18]   \n",
      "167                                 [Tennessee, 1]   \n",
      "170   [Illinois, 44, Minnesota, 39, Wisconsin, 73]   \n",
      "533                            [Massachusetts, 38]   \n",
      "566                                    [Texas, 25]   \n",
      "675                           [North Carolina, 32]   \n",
      "1247                                [Nebraska, 10]   \n",
      "1248                                 [Nebraska, 6]   \n",
      "1306                              [New Jersey, 13]   \n",
      "1322                            [Pennsylvania, 93]   \n",
      "\n",
      "                       organizationName  employees    headquarters  \\\n",
      "92               Atlantic Health System    18000.0      New Jersey   \n",
      "167   BlueCross BlueShield of Tennessee     6000.0       Tennessee   \n",
      "170                     BMO Harris Bank    12090.0        Illinois   \n",
      "533                  Harvard University    17839.0   Massachusetts   \n",
      "566                   Houston Methodist    27947.0           Texas   \n",
      "675                              Lenovo        NaN   United States   \n",
      "1247    University of Nebraska at Omaha        NaN        Nebraska   \n",
      "1248    University of Nebraska, Lincoln     5896.0        Nebraska   \n",
      "1306               Valley Health System     5749.0      New Jersey   \n",
      "1322       Volvo Construction Equipment        NaN    Pennsylvania   \n",
      "\n",
      "                ceoName industries  yearFounded  \n",
      "92     Brian Gragnolati        NaN       1995.0  \n",
      "167     Jason D. Hickey        NaN       1945.0  \n",
      "170        Darryl White        NaN       1882.0  \n",
      "533   Lawrence S. Bacow        NaN       1636.0  \n",
      "566        Marc L. Boom        NaN       1996.0  \n",
      "675        Kirk Skaugen        NaN       1984.0  \n",
      "1247          Joanne Li        NaN       1908.0  \n",
      "1248       Ronnie Green        NaN       1869.0  \n",
      "1306      Audrey Meyers        NaN       1951.0  \n",
      "1322                NaN        NaN          NaN  \n"
     ]
    }
   ],
   "source": [
    "print(best_employees.loc[best_employees['industries'].isnull(),:])\n",
    "\n",
    "best_employees.loc[best_employees['organizationName']=='Atlantic Health System','industries']='Health Care'\n",
    "best_employees.loc[best_employees['organizationName']=='BlueCross BlueShield of Tennessee','industries']='Health Care'\n",
    "best_employees.loc[best_employees['organizationName']=='BMO Harris Bank','industries']='Banking and Financial Services'\n",
    "best_employees.loc[best_employees['organizationName']=='Harvard University','industries']='Education'\n",
    "best_employees.loc[best_employees['organizationName']=='Houston Methodist','industries']='Health Care'\n",
    "best_employees.loc[best_employees['organizationName']=='Lenovo','industries']='Electronics'\n",
    "best_employees.loc[best_employees['organizationName']=='University of Nebraska at Omaha','industries']='Education'\n",
    "best_employees.loc[best_employees['organizationName']=='University of Nebraska, Lincoln','industries']='Education'\n",
    "best_employees.loc[best_employees['organizationName']=='Valley Health System','industries']='Health Care'\n",
    "best_employees.loc[best_employees['organizationName']=='Volvo Construction Equipment','industries']='Automotive (Automotive and Suppliers)'\n",
    "\n",
    "best_employees.loc[best_employees['organizationName']=='Volvo Construction Equipment','yearFounded']=1832"
   ]
  },
  {
   "cell_type": "markdown",
   "id": "d1c6ffba-baf4-428c-96ec-c9ff4e7575d2",
   "metadata": {},
   "source": [
    "### Fill Nan in 'employees' column with median values for this industry"
   ]
  },
  {
   "cell_type": "code",
   "execution_count": 11,
   "id": "ecf1b0d1-2fa7-4d68-87bd-bc7923c84f41",
   "metadata": {},
   "outputs": [],
   "source": [
    "best_employees[\"employees\"]=best_employees.groupby(['industries'])['employees'].apply(lambda x:x.fillna(x.median()))"
   ]
  },
  {
   "cell_type": "code",
   "execution_count": 12,
   "id": "7f5db97a-d853-4817-8aaf-a24c9d774871",
   "metadata": {},
   "outputs": [
    {
     "data": {
      "text/plain": [
       "Series([], Name: industries, dtype: int64)"
      ]
     },
     "execution_count": 12,
     "metadata": {},
     "output_type": "execute_result"
    }
   ],
   "source": [
    "# count nan depending on industry\n",
    "best_employees.loc[best_employees[\"employees\"].isnull(),'industries'].value_counts()"
   ]
  },
  {
   "cell_type": "code",
   "execution_count": 13,
   "id": "1ba20f4f-f60c-4c8e-8351-0270c6e93f18",
   "metadata": {},
   "outputs": [
    {
     "data": {
      "text/html": [
       "<div>\n",
       "<style scoped>\n",
       "    .dataframe tbody tr th:only-of-type {\n",
       "        vertical-align: middle;\n",
       "    }\n",
       "\n",
       "    .dataframe tbody tr th {\n",
       "        vertical-align: top;\n",
       "    }\n",
       "\n",
       "    .dataframe thead th {\n",
       "        text-align: right;\n",
       "    }\n",
       "</style>\n",
       "<table border=\"1\" class=\"dataframe\">\n",
       "  <thead>\n",
       "    <tr style=\"text-align: right;\">\n",
       "      <th></th>\n",
       "      <th>industryRanks</th>\n",
       "      <th>organizationName</th>\n",
       "      <th>employees</th>\n",
       "      <th>headquarters</th>\n",
       "      <th>ceoName</th>\n",
       "      <th>industries</th>\n",
       "      <th>yearFounded</th>\n",
       "    </tr>\n",
       "  </thead>\n",
       "  <tbody>\n",
       "  </tbody>\n",
       "</table>\n",
       "</div>"
      ],
      "text/plain": [
       "Empty DataFrame\n",
       "Columns: [industryRanks, organizationName, employees, headquarters, ceoName, industries, yearFounded]\n",
       "Index: []"
      ]
     },
     "execution_count": 13,
     "metadata": {},
     "output_type": "execute_result"
    }
   ],
   "source": [
    "best_employees[best_employees['employees'].isnull()]"
   ]
  },
  {
   "cell_type": "markdown",
   "id": "7d4b38b1-7ae5-4188-beba-41c6f81a1948",
   "metadata": {},
   "source": [
    "### Calculate summary across industries"
   ]
  },
  {
   "cell_type": "code",
   "execution_count": 14,
   "id": "9ecaba5d-63de-4e9a-851b-023e60ca5b88",
   "metadata": {},
   "outputs": [],
   "source": [
    "IndustriesSummary=pd.DataFrame({'TotalEmployees':best_employees.groupby('industries')['employees'].sum(),\n",
    "              'Ncompanies':best_employees.loc[:,'industries'].value_counts(),\n",
    "             'AverageNumberEmployers':best_employees.groupby('industries')['employees'].mean(),\n",
    "             'AverageAge years':np.floor(2022-best_employees.groupby('industries')['yearFounded'].mean())})"
   ]
  },
  {
   "cell_type": "code",
   "execution_count": 15,
   "id": "02b9e51d-20e7-4019-b025-1acb82e7daf2",
   "metadata": {},
   "outputs": [
    {
     "name": "stdout",
     "output_type": "stream",
     "text": [
      "1380\n",
      "49214996.0\n"
     ]
    }
   ],
   "source": [
    "print(best_employees['organizationName'].size)\n",
    "print(best_employees['employees'].sum())"
   ]
  },
  {
   "cell_type": "markdown",
   "id": "3d54a600-66ba-40a2-bc15-e04cd6022154",
   "metadata": {},
   "source": [
    "### Unwrap industryRanks column"
   ]
  },
  {
   "cell_type": "code",
   "execution_count": 16,
   "id": "cd7476a9-3408-46b6-a33c-6b63c655eb9b",
   "metadata": {},
   "outputs": [],
   "source": [
    "# create new DataFrame for company, state, rank\n",
    "\n",
    "state_ranks=[]\n",
    "dict_ranks={}\n",
    "\n",
    "for name,row in best_employees.iterrows():\n",
    "    company=row.organizationName\n",
    "    \n",
    "    \n",
    "    for ind in range(len(row.industryRanks)):\n",
    "        if  not (ind % 2): # isolate state\n",
    "            state=row.industryRanks[ind]\n",
    "        else:\n",
    "            rank=row.industryRanks[ind] #isolate rank\n",
    "            dict_ranks['organizationName']=company\n",
    "            dict_ranks['state']=state\n",
    "            dict_ranks['rank']=rank\n",
    "            state_ranks.append(dict_ranks)\n",
    "            dict_ranks={}\n",
    "            \n",
    "state_ranks_df=pd.DataFrame(state_ranks)\n",
    "\n",
    "# merge state_rank to the result table\n",
    "best_employees=pd.merge(left=best_employees,right=state_ranks_df,on='organizationName',how='left')\n",
    "best_employees.drop(columns=['industryRanks'],inplace=True)\n",
    "\n",
    "best_employees['rank']=pd.to_numeric(best_employees['rank'],errors='coerce',downcast='integer')"
   ]
  },
  {
   "cell_type": "markdown",
   "id": "e39df9b5-4441-4856-8f72-c2940c6b8ab7",
   "metadata": {},
   "source": [
    "### Write to file"
   ]
  },
  {
   "cell_type": "code",
   "execution_count": 17,
   "id": "1817060e-67d9-428c-9808-abcc08ae310f",
   "metadata": {},
   "outputs": [],
   "source": [
    "#best_employees.to_csv(\"BestEmployees2022.csv\")"
   ]
  },
  {
   "cell_type": "code",
   "execution_count": 32,
   "id": "064ce1d5-55f2-4dd0-bf80-66d8d0167c29",
   "metadata": {},
   "outputs": [
    {
     "data": {
      "text/plain": [
       "Index(['industryRanks', 'organizationName', 'employees', 'headquarters',\n",
       "       'ceoName', 'industries', 'yearFounded'],\n",
       "      dtype='object')"
      ]
     },
     "execution_count": 32,
     "metadata": {},
     "output_type": "execute_result"
    }
   ],
   "source": [
    "best_employees.columns"
   ]
  },
  {
   "cell_type": "code",
   "execution_count": 33,
   "id": "0f7f2f46-72fc-4952-bdab-aeb6fc76bb74",
   "metadata": {},
   "outputs": [
    {
     "data": {
      "text/html": [
       "<div>\n",
       "<style scoped>\n",
       "    .dataframe tbody tr th:only-of-type {\n",
       "        vertical-align: middle;\n",
       "    }\n",
       "\n",
       "    .dataframe tbody tr th {\n",
       "        vertical-align: top;\n",
       "    }\n",
       "\n",
       "    .dataframe thead th {\n",
       "        text-align: right;\n",
       "    }\n",
       "</style>\n",
       "<table border=\"1\" class=\"dataframe\">\n",
       "  <thead>\n",
       "    <tr style=\"text-align: right;\">\n",
       "      <th></th>\n",
       "      <th>industryRanks</th>\n",
       "      <th>organizationName</th>\n",
       "      <th>employees</th>\n",
       "      <th>headquarters</th>\n",
       "      <th>ceoName</th>\n",
       "      <th>industries</th>\n",
       "      <th>yearFounded</th>\n",
       "    </tr>\n",
       "  </thead>\n",
       "  <tbody>\n",
       "    <tr>\n",
       "      <th>1064</th>\n",
       "      <td>[Alabama, 11, Arizona, 37, Arkansas, 10, Color...</td>\n",
       "      <td>Starbucks</td>\n",
       "      <td>245000.0</td>\n",
       "      <td>Washington</td>\n",
       "      <td>Howard Schultz</td>\n",
       "      <td>Travel, Hotels, Restaurants, Leisure</td>\n",
       "      <td>1971.0</td>\n",
       "    </tr>\n",
       "  </tbody>\n",
       "</table>\n",
       "</div>"
      ],
      "text/plain": [
       "                                          industryRanks organizationName  \\\n",
       "1064  [Alabama, 11, Arizona, 37, Arkansas, 10, Color...        Starbucks   \n",
       "\n",
       "      employees headquarters         ceoName  \\\n",
       "1064   245000.0   Washington  Howard Schultz   \n",
       "\n",
       "                                industries  yearFounded  \n",
       "1064  Travel, Hotels, Restaurants, Leisure       1971.0  "
      ]
     },
     "execution_count": 33,
     "metadata": {},
     "output_type": "execute_result"
    }
   ],
   "source": [
    "best_employees[best_employees['organizationName']=='Starbucks']"
   ]
  },
  {
   "cell_type": "code",
   "execution_count": 18,
   "id": "8d810e47-824c-4a07-8765-20f7260d1f50",
   "metadata": {},
   "outputs": [],
   "source": [
    "IndustriesSummary=IndustriesSummary.reset_index().rename(columns={\"index\":\"industries\"})\n",
    "IndustriesSummary.to_csv(\"IndustriesSummary2022.csv\")"
   ]
  },
  {
   "cell_type": "code",
   "execution_count": 19,
   "id": "3fef9aa8-2f35-4268-9611-f867cce172ae",
   "metadata": {},
   "outputs": [],
   "source": []
  },
  {
   "cell_type": "code",
   "execution_count": 20,
   "id": "c129ebbc-105e-4607-a1bf-77cfc8a3fece",
   "metadata": {},
   "outputs": [
    {
     "data": {
      "text/html": [
       "<div>\n",
       "<style scoped>\n",
       "    .dataframe tbody tr th:only-of-type {\n",
       "        vertical-align: middle;\n",
       "    }\n",
       "\n",
       "    .dataframe tbody tr th {\n",
       "        vertical-align: top;\n",
       "    }\n",
       "\n",
       "    .dataframe thead th {\n",
       "        text-align: right;\n",
       "    }\n",
       "</style>\n",
       "<table border=\"1\" class=\"dataframe\">\n",
       "  <thead>\n",
       "    <tr style=\"text-align: right;\">\n",
       "      <th></th>\n",
       "      <th>industries</th>\n",
       "      <th>TotalEmployees</th>\n",
       "      <th>Ncompanies</th>\n",
       "      <th>AverageNumberEmployers</th>\n",
       "      <th>AverageAge years</th>\n",
       "    </tr>\n",
       "  </thead>\n",
       "  <tbody>\n",
       "    <tr>\n",
       "      <th>12</th>\n",
       "      <td>Government Services</td>\n",
       "      <td>8054264.0</td>\n",
       "      <td>101</td>\n",
       "      <td>79745.188119</td>\n",
       "      <td>167.0</td>\n",
       "    </tr>\n",
       "    <tr>\n",
       "      <th>19</th>\n",
       "      <td>Retail and Wholesale</td>\n",
       "      <td>6686212.0</td>\n",
       "      <td>81</td>\n",
       "      <td>82545.827160</td>\n",
       "      <td>69.0</td>\n",
       "    </tr>\n",
       "    <tr>\n",
       "      <th>13</th>\n",
       "      <td>Health Care</td>\n",
       "      <td>6464711.0</td>\n",
       "      <td>321</td>\n",
       "      <td>20139.286604</td>\n",
       "      <td>82.0</td>\n",
       "    </tr>\n",
       "    <tr>\n",
       "      <th>3</th>\n",
       "      <td>Business Services &amp; Supplies</td>\n",
       "      <td>2979456.0</td>\n",
       "      <td>39</td>\n",
       "      <td>76396.307692</td>\n",
       "      <td>63.0</td>\n",
       "    </tr>\n",
       "    <tr>\n",
       "      <th>18</th>\n",
       "      <td>Professional Services</td>\n",
       "      <td>2948046.0</td>\n",
       "      <td>18</td>\n",
       "      <td>163780.333333</td>\n",
       "      <td>71.0</td>\n",
       "    </tr>\n",
       "    <tr>\n",
       "      <th>8</th>\n",
       "      <td>Education</td>\n",
       "      <td>2358000.0</td>\n",
       "      <td>297</td>\n",
       "      <td>7939.393939</td>\n",
       "      <td>128.0</td>\n",
       "    </tr>\n",
       "    <tr>\n",
       "      <th>22</th>\n",
       "      <td>Travel, Hotels, Restaurants, Leisure</td>\n",
       "      <td>2348570.0</td>\n",
       "      <td>45</td>\n",
       "      <td>52190.444444</td>\n",
       "      <td>58.0</td>\n",
       "    </tr>\n",
       "    <tr>\n",
       "      <th>1</th>\n",
       "      <td>Automotive (Automotive and Suppliers)</td>\n",
       "      <td>2083239.0</td>\n",
       "      <td>34</td>\n",
       "      <td>61271.735294</td>\n",
       "      <td>79.0</td>\n",
       "    </tr>\n",
       "    <tr>\n",
       "      <th>2</th>\n",
       "      <td>Banking and Financial Services</td>\n",
       "      <td>1986999.0</td>\n",
       "      <td>69</td>\n",
       "      <td>28797.086957</td>\n",
       "      <td>110.0</td>\n",
       "    </tr>\n",
       "    <tr>\n",
       "      <th>21</th>\n",
       "      <td>Transportation and Logistics</td>\n",
       "      <td>1862307.0</td>\n",
       "      <td>32</td>\n",
       "      <td>58197.093750</td>\n",
       "      <td>68.0</td>\n",
       "    </tr>\n",
       "    <tr>\n",
       "      <th>10</th>\n",
       "      <td>Engineering, Manufacturing</td>\n",
       "      <td>1418162.0</td>\n",
       "      <td>45</td>\n",
       "      <td>31514.711111</td>\n",
       "      <td>102.0</td>\n",
       "    </tr>\n",
       "    <tr>\n",
       "      <th>9</th>\n",
       "      <td>Electronics</td>\n",
       "      <td>1414929.0</td>\n",
       "      <td>27</td>\n",
       "      <td>52404.777778</td>\n",
       "      <td>63.0</td>\n",
       "    </tr>\n",
       "    <tr>\n",
       "      <th>11</th>\n",
       "      <td>Food, Soft Beverages, Alcohol &amp; Tobacco</td>\n",
       "      <td>1349835.0</td>\n",
       "      <td>24</td>\n",
       "      <td>56243.125000</td>\n",
       "      <td>86.0</td>\n",
       "    </tr>\n",
       "    <tr>\n",
       "      <th>14</th>\n",
       "      <td>IT, Internet, Software &amp; Services</td>\n",
       "      <td>1205565.5</td>\n",
       "      <td>33</td>\n",
       "      <td>36532.287879</td>\n",
       "      <td>35.0</td>\n",
       "    </tr>\n",
       "    <tr>\n",
       "      <th>15</th>\n",
       "      <td>Insurance</td>\n",
       "      <td>1182651.0</td>\n",
       "      <td>54</td>\n",
       "      <td>21900.944444</td>\n",
       "      <td>93.0</td>\n",
       "    </tr>\n",
       "    <tr>\n",
       "      <th>7</th>\n",
       "      <td>Drugs &amp; Biotechnology</td>\n",
       "      <td>1121036.5</td>\n",
       "      <td>27</td>\n",
       "      <td>41519.870370</td>\n",
       "      <td>89.0</td>\n",
       "    </tr>\n",
       "    <tr>\n",
       "      <th>6</th>\n",
       "      <td>Construction, Oil &amp; Gas Operations, Mining and...</td>\n",
       "      <td>805442.0</td>\n",
       "      <td>32</td>\n",
       "      <td>25170.062500</td>\n",
       "      <td>99.0</td>\n",
       "    </tr>\n",
       "    <tr>\n",
       "      <th>0</th>\n",
       "      <td>Aerospace &amp; Defense</td>\n",
       "      <td>712535.0</td>\n",
       "      <td>15</td>\n",
       "      <td>47502.333333</td>\n",
       "      <td>76.0</td>\n",
       "    </tr>\n",
       "    <tr>\n",
       "      <th>20</th>\n",
       "      <td>Telecommunications Services, Cable Supplier</td>\n",
       "      <td>595676.0</td>\n",
       "      <td>10</td>\n",
       "      <td>59567.600000</td>\n",
       "      <td>71.0</td>\n",
       "    </tr>\n",
       "    <tr>\n",
       "      <th>4</th>\n",
       "      <td>Clothing, Shoes, Sports Equipment</td>\n",
       "      <td>458554.0</td>\n",
       "      <td>15</td>\n",
       "      <td>30570.266667</td>\n",
       "      <td>81.0</td>\n",
       "    </tr>\n",
       "    <tr>\n",
       "      <th>17</th>\n",
       "      <td>Packaged Goods</td>\n",
       "      <td>432825.0</td>\n",
       "      <td>16</td>\n",
       "      <td>27051.562500</td>\n",
       "      <td>117.0</td>\n",
       "    </tr>\n",
       "    <tr>\n",
       "      <th>23</th>\n",
       "      <td>Utilities</td>\n",
       "      <td>387006.0</td>\n",
       "      <td>33</td>\n",
       "      <td>11727.454545</td>\n",
       "      <td>83.0</td>\n",
       "    </tr>\n",
       "    <tr>\n",
       "      <th>16</th>\n",
       "      <td>Media &amp; Advertising</td>\n",
       "      <td>324975.0</td>\n",
       "      <td>11</td>\n",
       "      <td>29543.181818</td>\n",
       "      <td>44.0</td>\n",
       "    </tr>\n",
       "    <tr>\n",
       "      <th>5</th>\n",
       "      <td>Conglomerates</td>\n",
       "      <td>34000.0</td>\n",
       "      <td>1</td>\n",
       "      <td>34000.000000</td>\n",
       "      <td>95.0</td>\n",
       "    </tr>\n",
       "  </tbody>\n",
       "</table>\n",
       "</div>"
      ],
      "text/plain": [
       "                                           industries  TotalEmployees  \\\n",
       "12                                Government Services       8054264.0   \n",
       "19                               Retail and Wholesale       6686212.0   \n",
       "13                                        Health Care       6464711.0   \n",
       "3                        Business Services & Supplies       2979456.0   \n",
       "18                              Professional Services       2948046.0   \n",
       "8                                           Education       2358000.0   \n",
       "22               Travel, Hotels, Restaurants, Leisure       2348570.0   \n",
       "1               Automotive (Automotive and Suppliers)       2083239.0   \n",
       "2                      Banking and Financial Services       1986999.0   \n",
       "21                       Transportation and Logistics       1862307.0   \n",
       "10                         Engineering, Manufacturing       1418162.0   \n",
       "9                                         Electronics       1414929.0   \n",
       "11            Food, Soft Beverages, Alcohol & Tobacco       1349835.0   \n",
       "14                  IT, Internet, Software & Services       1205565.5   \n",
       "15                                          Insurance       1182651.0   \n",
       "7                               Drugs & Biotechnology       1121036.5   \n",
       "6   Construction, Oil & Gas Operations, Mining and...        805442.0   \n",
       "0                                 Aerospace & Defense        712535.0   \n",
       "20        Telecommunications Services, Cable Supplier        595676.0   \n",
       "4                   Clothing, Shoes, Sports Equipment        458554.0   \n",
       "17                                     Packaged Goods        432825.0   \n",
       "23                                          Utilities        387006.0   \n",
       "16                                Media & Advertising        324975.0   \n",
       "5                                       Conglomerates         34000.0   \n",
       "\n",
       "    Ncompanies  AverageNumberEmployers  AverageAge years  \n",
       "12         101            79745.188119             167.0  \n",
       "19          81            82545.827160              69.0  \n",
       "13         321            20139.286604              82.0  \n",
       "3           39            76396.307692              63.0  \n",
       "18          18           163780.333333              71.0  \n",
       "8          297             7939.393939             128.0  \n",
       "22          45            52190.444444              58.0  \n",
       "1           34            61271.735294              79.0  \n",
       "2           69            28797.086957             110.0  \n",
       "21          32            58197.093750              68.0  \n",
       "10          45            31514.711111             102.0  \n",
       "9           27            52404.777778              63.0  \n",
       "11          24            56243.125000              86.0  \n",
       "14          33            36532.287879              35.0  \n",
       "15          54            21900.944444              93.0  \n",
       "7           27            41519.870370              89.0  \n",
       "6           32            25170.062500              99.0  \n",
       "0           15            47502.333333              76.0  \n",
       "20          10            59567.600000              71.0  \n",
       "4           15            30570.266667              81.0  \n",
       "17          16            27051.562500             117.0  \n",
       "23          33            11727.454545              83.0  \n",
       "16          11            29543.181818              44.0  \n",
       "5            1            34000.000000              95.0  "
      ]
     },
     "execution_count": 20,
     "metadata": {},
     "output_type": "execute_result"
    }
   ],
   "source": [
    "IndustriesSummary.sort_values(by='TotalEmployees',ascending=False)"
   ]
  },
  {
   "cell_type": "code",
   "execution_count": null,
   "id": "eeba7922-d3b8-4933-99fa-94086ddab5cb",
   "metadata": {},
   "outputs": [],
   "source": []
  }
 ],
 "metadata": {
  "kernelspec": {
   "display_name": "Python 3 (ipykernel)",
   "language": "python",
   "name": "python3"
  },
  "language_info": {
   "codemirror_mode": {
    "name": "ipython",
    "version": 3
   },
   "file_extension": ".py",
   "mimetype": "text/x-python",
   "name": "python",
   "nbconvert_exporter": "python",
   "pygments_lexer": "ipython3",
   "version": "3.9.13"
  }
 },
 "nbformat": 4,
 "nbformat_minor": 5
}
